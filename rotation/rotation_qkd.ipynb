{
 "cells": [
  {
   "cell_type": "code",
   "execution_count": null,
   "metadata": {},
   "outputs": [],
   "source": [
    "import numpy as np\n",
    "from numpy.random import randint\n",
    "from rotation_functions import *\n",
    "\n",
    "%reload_ext jupyter_black"
   ]
  },
  {
   "cell_type": "code",
   "execution_count": null,
   "metadata": {},
   "outputs": [],
   "source": [
    "n = 128\n",
    "\n",
    "## Step 1\n",
    "# Alice generates bits\n",
    "alice_bits = randint(2, size=n)\n",
    "\n",
    "## Step 2\n",
    "# Create an array to tell us which qubits\n",
    "# are encoded in which bases\n",
    "alice_bases = randint(2, size=n)\n",
    "message = encode_message(alice_bits, alice_bases, n)\n",
    "\n",
    "## Step 3\n",
    "# Decide which basis to measure in:\n",
    "bob_bases = randint(2, size=n)\n",
    "bob_results = decode_message(message, bob_bases, n)\n",
    "\n",
    "## Step 4\n",
    "alice_key = remove_garbage(alice_bases, bob_bases, alice_bits, n)\n",
    "bob_key = remove_garbage(alice_bases, bob_bases, bob_results, n)\n",
    "\n",
    "## Step 5\n",
    "# Sample a subset of the bits to compare\n",
    "sample_size = int(n * 0.1)\n",
    "bit_selection = randint(n, size=sample_size)\n",
    "\n",
    "alice_sample = sample_bits(alice_key, bit_selection)\n",
    "print(\"Alice's sample:   \", alice_sample)\n",
    "bob_sample = sample_bits(bob_key, bit_selection)\n",
    "print(\"Bob's sample:     \", bob_sample)\n",
    "\n",
    "bob_sample == alice_sample\n",
    "print(\"Alice's key:      \", alice_key)\n",
    "print(\"Bob's key:        \", bob_key)\n",
    "print(\"Key lengths:      \", len(alice_key), len(bob_key))\n",
    "print(\"Are the keys equal?\", alice_key == bob_key)"
   ]
  },
  {
   "cell_type": "code",
   "execution_count": null,
   "metadata": {},
   "outputs": [],
   "source": [
    "otp = alice_key\n",
    "\n",
    "# Ensure the length of the OTP is divisible by 2 for equal distribution\n",
    "otp_length = len(otp) - len(otp) % 2\n",
    "otp = otp[:otp_length]  # Truncate the OTP to make it divisible by 2\n",
    "\n",
    "# Calculate the length for a_bases and b_bases\n",
    "segment_length = otp_length // 2\n",
    "\n",
    "# Extract a_bases and b_bases from the OTP\n",
    "a_bases = otp[:segment_length]\n",
    "b_bases = otp[segment_length : 2 * segment_length]\n",
    "\n",
    "# Generate c_bits , in future with a QRNG\n",
    "c_bits = randint(2, size=segment_length)\n",
    "\n",
    "print(\"a_bases: \", a_bases)\n",
    "print(\"b_bases: \", b_bases)\n",
    "print(\"c_bits:  \", c_bits)"
   ]
  },
  {
   "cell_type": "code",
   "execution_count": null,
   "metadata": {},
   "outputs": [],
   "source": [
    "# Encode c in a\n",
    "message = encode_message(c_bits, a_bases, segment_length)"
   ]
  },
  {
   "cell_type": "code",
   "execution_count": null,
   "metadata": {},
   "outputs": [],
   "source": [
    "# Prover compares a and b bases and applies a rotation if they are different\n",
    "message_back = apply_specific_rotation(a_bases, b_bases, message)"
   ]
  },
  {
   "cell_type": "code",
   "execution_count": null,
   "metadata": {},
   "outputs": [],
   "source": [
    "# Verifier measures the qubits in the b basis\n",
    "c_prime = decode_message(message_back, b_bases, segment_length)"
   ]
  },
  {
   "cell_type": "code",
   "execution_count": null,
   "metadata": {},
   "outputs": [],
   "source": [
    "# Verifier compares c and c'\n",
    "print(\"\\nc bits:\", c_bits)\n",
    "print(\"\\nc' bits:\", c_prime)\n",
    "print(np.array_equal(c_bits, c_prime))"
   ]
  }
 ],
 "metadata": {
  "kernelspec": {
   "display_name": "qiskit-env",
   "language": "python",
   "name": "python3"
  },
  "language_info": {
   "codemirror_mode": {
    "name": "ipython",
    "version": 3
   },
   "file_extension": ".py",
   "mimetype": "text/x-python",
   "name": "python",
   "nbconvert_exporter": "python",
   "pygments_lexer": "ipython3",
   "version": "3.12.0"
  }
 },
 "nbformat": 4,
 "nbformat_minor": 2
}
