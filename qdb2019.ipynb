{
 "cells": [
  {
   "cell_type": "code",
   "execution_count": 94,
   "metadata": {},
   "outputs": [],
   "source": [
    "from qiskit import QuantumCircuit, Aer, transpile\n",
    "from qiskit.visualization import plot_histogram, plot_bloch_multivector\n",
    "from numpy.random import randint\n",
    "import numpy as np\n",
    "from common_functions import encode_message, decode_message\n",
    "\n",
    "# TODO: Enable Code formatting\n",
    "# %load_ext jupyter_black"
   ]
  },
  {
   "cell_type": "code",
   "execution_count": 95,
   "metadata": {},
   "outputs": [],
   "source": [
    "n = 100"
   ]
  },
  {
   "cell_type": "code",
   "execution_count": 96,
   "metadata": {},
   "outputs": [],
   "source": [
    "# TODO: Nonce generation at the beggining is skipped"
   ]
  },
  {
   "cell_type": "code",
   "execution_count": 97,
   "metadata": {},
   "outputs": [
    {
     "name": "stdout",
     "output_type": "stream",
     "text": [
      "a bases: [0 1 1 1 0 0 0 1 1 0 1 0 0 1 0 0 0 1 0 1 1 1 1 1 1 0 1 0 1 1 0 1 1 1 0 0 0\n",
      " 1 1 1 0 0 0 0 1 0 0 0 1 1 1 0 0 1 0 1 1 1 1 0 0 1 1 1 0 1 0 1 1 1 1 0 1 0\n",
      " 1 0 1 1 1 0 0 1 0 1 1 0 1 1 1 0 1 0 1 0 1 1 1 1 1 1]\n",
      "\n",
      "b bases: [0 1 0 1 1 0 1 1 0 0 0 1 1 1 0 1 1 1 0 1 1 0 0 0 1 0 1 1 0 0 0 1 0 0 0 1 1\n",
      " 1 1 0 0 1 1 1 1 1 0 0 1 1 1 1 1 1 0 0 0 1 1 1 0 1 1 1 0 0 1 1 0 1 1 0 1 1\n",
      " 1 0 0 1 0 1 0 0 0 1 0 0 1 1 0 0 1 0 1 0 0 1 1 1 0 1]\n",
      "\n",
      "c bits: [0 0 1 1 1 1 0 1 0 1 0 0 1 1 0 1 0 0 1 0 1 1 1 1 0 1 1 0 1 0 1 0 0 1 1 0 1\n",
      " 1 1 1 1 0 1 0 0 1 1 1 0 1 0 1 0 1 1 1 1 1 1 1 1 1 1 0 0 0 0 0 1 1 1 1 0 1\n",
      " 0 1 1 1 1 0 1 1 0 1 0 1 1 0 0 0 0 0 0 0 0 0 0 0 0 1]\n"
     ]
    }
   ],
   "source": [
    "# Verifier and Prover generate n random bases a and b\n",
    "a_bases = randint(2, size=n)\n",
    "print(\"a bases:\", a_bases)\n",
    "b_bases = randint(2, size=n)\n",
    "print(\"\\nb bases:\", b_bases)\n",
    "\n",
    "# Verifier generates n random challenger-bits c\n",
    "c_bits = randint(2, size=n)\n",
    "print(\"\\nc bits:\", c_bits)"
   ]
  },
  {
   "cell_type": "code",
   "execution_count": 98,
   "metadata": {},
   "outputs": [
    {
     "data": {
      "image/png": "[encoded data removed]",
      "text/plain": [
       "<Figure size 185.453x200.667 with 1 Axes>"
      ]
     },
     "execution_count": 98,
     "metadata": {},
     "output_type": "execute_result"
    }
   ],
   "source": [
    "# Encode c in a\n",
    "message = encode_message(c_bits, a_bases, n)\n",
    "\n",
    "# Draw the circuit bit 0\n",
    "message[0].draw(output=\"mpl\")"
   ]
  },
  {
   "cell_type": "code",
   "execution_count": 99,
   "metadata": {},
   "outputs": [
    {
     "name": "stdout",
     "output_type": "stream",
     "text": [
      "\n",
      "c' bits: [0, 0, 1, 1, 1, 1, 0, 1, 0, 1, 0, 0, 1, 1, 0, 1, 0, 0, 1, 0, 1, 1, 1, 1, 0, 1, 1, 0, 1, 0, 1, 0, 0, 1, 1, 0, 1, 1, 1, 1, 1, 0, 1, 0, 0, 1, 1, 1, 0, 1, 0, 1, 0, 1, 1, 1, 1, 1, 1, 1, 1, 1, 1, 0, 0, 0, 0, 0, 1, 1, 1, 1, 0, 1, 0, 1, 1, 1, 1, 0, 1, 1, 0, 1, 0, 1, 1, 0, 0, 0, 0, 0, 0, 0, 0, 0, 0, 0, 0, 1]\n"
     ]
    }
   ],
   "source": [
    "# Prover decodes the qubits in the bases a and store them as c'\n",
    "c_prime_bits = decode_message(message, a_bases, n)\n",
    "print(\"\\nc' bits:\", c_prime_bits)"
   ]
  },
  {
   "cell_type": "code",
   "execution_count": 100,
   "metadata": {},
   "outputs": [
    {
     "name": "stdout",
     "output_type": "stream",
     "text": [
      "True\n"
     ]
    }
   ],
   "source": [
    "# Prover re-encode the qubits in the bases b and sends them to the Verifier\n",
    "message_back = encode_message(c_prime_bits, b_bases, n)\n",
    "\n",
    "# Verifier decodes the message in the bases b and store them as c''\n",
    "c_prime_two_bits = decode_message(message_back, b_bases, n)\n",
    "\n",
    "# Verifier compares c' and c''\n",
    "print(np.array_equal(c_bits, c_prime_two_bits))"
   ]
  },
  {
   "cell_type": "code",
   "execution_count": 101,
   "metadata": {},
   "outputs": [],
   "source": [
    "# TODO: Last step is a MAC check\n",
    "# TODO: CURRENTLY I SEND ALL OF THE BITS. THEY NEED TO BE SEND ONE BY ONE. SO I NEED LOOP THROUGH IT"
   ]
  }
 ],
 "metadata": {
  "kernelspec": {
   "display_name": "qiskit-env",
   "language": "python",
   "name": "python3"
  },
  "language_info": {
   "codemirror_mode": {
    "name": "ipython",
    "version": 3
   },
   "file_extension": ".py",
   "mimetype": "text/x-python",
   "name": "python",
   "nbconvert_exporter": "python",
   "pygments_lexer": "ipython3",
   "version": "3.8.18"
  }
 },
 "nbformat": 4,
 "nbformat_minor": 2
}
