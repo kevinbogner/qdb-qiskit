{
 "cells": [
  {
   "cell_type": "code",
   "execution_count": 6,
   "metadata": {},
   "outputs": [],
   "source": [
    "from qiskit import QuantumCircuit, Aer, transpile\n",
    "from qiskit.visualization import plot_histogram, plot_bloch_multivector\n",
    "from numpy.random import randint\n",
    "import numpy as np\n",
    "from common_functions import encode_message_range, encode_message, decode_message\n",
    "\n",
    "# TODO: Enable Code formatting\n",
    "# %load_ext jupyter_black"
   ]
  },
  {
   "cell_type": "code",
   "execution_count": 7,
   "metadata": {},
   "outputs": [],
   "source": [
    "n = 10"
   ]
  },
  {
   "cell_type": "code",
   "execution_count": 8,
   "metadata": {},
   "outputs": [],
   "source": [
    "# TODO: Nonce generation at the beggining is skipped"
   ]
  },
  {
   "cell_type": "code",
   "execution_count": 9,
   "metadata": {},
   "outputs": [
    {
     "name": "stdout",
     "output_type": "stream",
     "text": [
      "a bases: [0 1 0 0 0 1 1 0 0 1]\n",
      "\n",
      "b bases: [0 0 1 1 1 1 1 1 0 1]\n",
      "\n",
      "c bits: [0 0 0 1 1 1 1 1 0 0]\n"
     ]
    }
   ],
   "source": [
    "# Party A and Party B generate random basis a and basis b\n",
    "a_bases = randint(2, size=n)\n",
    "print(\"a bases:\", a_bases)\n",
    "b_bases = randint(2, size=n)\n",
    "print(\"\\nb bases:\", b_bases)\n",
    "\n",
    "# A generates n random challenger-bits c\n",
    "c_bits = randint(2, size=n)\n",
    "print(\"\\nc bits:\", c_bits)"
   ]
  },
  {
   "cell_type": "code",
   "execution_count": 10,
   "metadata": {},
   "outputs": [
    {
     "ename": "IndexError",
     "evalue": "list index out of range",
     "output_type": "error",
     "traceback": [
      "\u001b[0;31m---------------------------------------------------------------------------\u001b[0m",
      "\u001b[0;31mIndexError\u001b[0m                                Traceback (most recent call last)",
      "Cell \u001b[0;32mIn[10], line 9\u001b[0m\n\u001b[1;32m      7\u001b[0m \u001b[38;5;66;03m# Append the encoded message to the quantum circuit\u001b[39;00m\n\u001b[1;32m      8\u001b[0m \u001b[38;5;28;01mfor\u001b[39;00m i \u001b[38;5;129;01min\u001b[39;00m \u001b[38;5;28mrange\u001b[39m(\u001b[38;5;241m2\u001b[39m):\n\u001b[0;32m----> 9\u001b[0m     qc\u001b[38;5;241m.\u001b[39mappend(\u001b[43mmessage\u001b[49m\u001b[43m[\u001b[49m\u001b[43mi\u001b[49m\u001b[43m]\u001b[49m\u001b[38;5;241m.\u001b[39mto_gate(), [i])\n\u001b[1;32m     11\u001b[0m \u001b[38;5;66;03m# Entangle the bits in pairs\u001b[39;00m\n\u001b[1;32m     12\u001b[0m \u001b[38;5;28;01mfor\u001b[39;00m i \u001b[38;5;129;01min\u001b[39;00m \u001b[38;5;28mrange\u001b[39m(\u001b[38;5;241m0\u001b[39m, n, \u001b[38;5;241m2\u001b[39m):\n",
      "\u001b[0;31mIndexError\u001b[0m: list index out of range"
     ]
    }
   ],
   "source": [
    "# Encode c[0] and c[1] in a\n",
    "message = encode_message_range(c_bits, a_bases, 0, 1, n)\n",
    "\n",
    "# Create a quantum circuit\n",
    "qc = QuantumCircuit(n)\n",
    "\n",
    "# Append the encoded message to the quantum circuit\n",
    "for i in range(2):\n",
    "    qc.append(message[i].to_gate(), [i])\n",
    "\n",
    "# Entangle the bits in pairs\n",
    "for i in range(0, n, 2):\n",
    "    qc.h(i)\n",
    "    qc.h(i+1)\n",
    "    qc.cx(i, i+1)\n",
    "\n",
    "# Draw the circuit\n",
    "qc.draw(output=\"mpl\")"
   ]
  },
  {
   "cell_type": "code",
   "execution_count": null,
   "metadata": {},
   "outputs": [
    {
     "data": {
      "image/png": "[encoded data removed]",
      "text/plain": [
       "<Figure size 287.496x869.556 with 1 Axes>"
      ]
     },
     "execution_count": 45,
     "metadata": {},
     "output_type": "execute_result"
    }
   ],
   "source": [
    "# Create a quantum circuit\n",
    "qc = QuantumCircuit(n)\n",
    "\n",
    "# Entangle the bits in pairs\n",
    "for i in range(0, n, 2):\n",
    "    qc.h(i)\n",
    "    qc.h(i+1)\n",
    "    qc.cx(i, i+1)\n",
    "\n",
    "# Draw the circuit\n",
    "qc.draw(output=\"mpl\")"
   ]
  },
  {
   "cell_type": "code",
   "execution_count": null,
   "metadata": {},
   "outputs": [
    {
     "ename": "IndexError",
     "evalue": "list index out of range",
     "output_type": "error",
     "traceback": [
      "\u001b[0;31m---------------------------------------------------------------------------\u001b[0m",
      "\u001b[0;31mIndexError\u001b[0m                                Traceback (most recent call last)",
      "Cell \u001b[0;32mIn[46], line 2\u001b[0m\n\u001b[1;32m      1\u001b[0m \u001b[38;5;66;03m# Prover decodes the qubits in the bases a and store them as c'\u001b[39;00m\n\u001b[0;32m----> 2\u001b[0m c_prime_bits \u001b[38;5;241m=\u001b[39m \u001b[43mdecode_message\u001b[49m\u001b[43m(\u001b[49m\u001b[43mmessage\u001b[49m\u001b[43m,\u001b[49m\u001b[43m \u001b[49m\u001b[43ma_bases\u001b[49m\u001b[43m,\u001b[49m\u001b[43m \u001b[49m\u001b[43mn\u001b[49m\u001b[43m)\u001b[49m\n\u001b[1;32m      3\u001b[0m \u001b[38;5;28mprint\u001b[39m(\u001b[38;5;124m\"\u001b[39m\u001b[38;5;130;01m\\n\u001b[39;00m\u001b[38;5;124mc\u001b[39m\u001b[38;5;124m'\u001b[39m\u001b[38;5;124m bits:\u001b[39m\u001b[38;5;124m\"\u001b[39m, c_prime_bits)\n",
      "File \u001b[0;32m~/qiskit/common_functions.py:96\u001b[0m, in \u001b[0;36mdecode_message\u001b[0;34m(message, bases, n)\u001b[0m\n\u001b[1;32m     94\u001b[0m     message[q]\u001b[38;5;241m.\u001b[39mmeasure(\u001b[38;5;241m0\u001b[39m, \u001b[38;5;241m0\u001b[39m)\n\u001b[1;32m     95\u001b[0m \u001b[38;5;28;01mif\u001b[39;00m bases[q] \u001b[38;5;241m==\u001b[39m \u001b[38;5;241m1\u001b[39m:  \u001b[38;5;66;03m# measuring in X-basis\u001b[39;00m\n\u001b[0;32m---> 96\u001b[0m     \u001b[43mmessage\u001b[49m\u001b[43m[\u001b[49m\u001b[43mq\u001b[49m\u001b[43m]\u001b[49m\u001b[38;5;241m.\u001b[39mh(\u001b[38;5;241m0\u001b[39m)\n\u001b[1;32m     97\u001b[0m     message[q]\u001b[38;5;241m.\u001b[39mmeasure(\u001b[38;5;241m0\u001b[39m, \u001b[38;5;241m0\u001b[39m)\n\u001b[1;32m     98\u001b[0m aer_sim \u001b[38;5;241m=\u001b[39m Aer\u001b[38;5;241m.\u001b[39mget_backend(\u001b[38;5;124m\"\u001b[39m\u001b[38;5;124maer_simulator\u001b[39m\u001b[38;5;124m\"\u001b[39m)\n",
      "\u001b[0;31mIndexError\u001b[0m: list index out of range"
     ]
    }
   ],
   "source": [
    "# Prover decodes the qubits in the bases a and store them as c'\n",
    "c_prime_bits = decode_message(message, a_bases, n)\n",
    "print(\"\\nc' bits:\", c_prime_bits)"
   ]
  },
  {
   "cell_type": "code",
   "execution_count": null,
   "metadata": {},
   "outputs": [
    {
     "name": "stdout",
     "output_type": "stream",
     "text": [
      "True\n"
     ]
    }
   ],
   "source": [
    "# Prover re-encode the qubits in the bases b and sends them to the Verifier\n",
    "message_back = encode_message(c_prime_bits, b_bases, n)\n",
    "\n",
    "# Verifier decodes the message in the bases b and store them as c''\n",
    "c_prime_two_bits = decode_message(message_back, b_bases, n)\n",
    "\n",
    "# Verifier compares c' and c''\n",
    "print(np.array_equal(c_bits, c_prime_two_bits))"
   ]
  },
  {
   "cell_type": "code",
   "execution_count": null,
   "metadata": {},
   "outputs": [],
   "source": [
    "# TODO: Last step is a MAC check\n",
    "# TODO: CURRENTLY I SEND ALL OF THE BITS. THEY NEED TO BE SEND ONE BY ONE. SO I NEED LOOP THROUGH IT"
   ]
  }
 ],
 "metadata": {
  "kernelspec": {
   "display_name": "qiskit-env",
   "language": "python",
   "name": "python3"
  },
  "language_info": {
   "codemirror_mode": {
    "name": "ipython",
    "version": 3
   },
   "file_extension": ".py",
   "mimetype": "text/x-python",
   "name": "python",
   "nbconvert_exporter": "python",
   "pygments_lexer": "ipython3",
   "version": "3.8.18"
  }
 },
 "nbformat": 4,
 "nbformat_minor": 2
}
