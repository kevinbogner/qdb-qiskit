{
 "cells": [
  {
   "cell_type": "code",
   "execution_count": 270,
   "metadata": {},
   "outputs": [],
   "source": [
    "from qiskit import QuantumCircuit, Aer, transpile\n",
    "from qiskit.visualization import plot_histogram, plot_bloch_multivector\n",
    "from numpy.random import randint\n",
    "import numpy as np\n",
    "from common_functions import encode_message, decode_message\n",
    "\n",
    "# TODO: Enable Code formatting\n",
    "# %load_ext jupyter_black"
   ]
  },
  {
   "cell_type": "code",
   "execution_count": 271,
   "metadata": {},
   "outputs": [],
   "source": [
    "n = 10000"
   ]
  },
  {
   "cell_type": "code",
   "execution_count": 272,
   "metadata": {},
   "outputs": [],
   "source": [
    "# Eve tries to predict the challenge"
   ]
  },
  {
   "cell_type": "code",
   "execution_count": 273,
   "metadata": {},
   "outputs": [],
   "source": [
    "# TODO: Nonce generation at the beggining is skipped"
   ]
  },
  {
   "cell_type": "code",
   "execution_count": 274,
   "metadata": {},
   "outputs": [
    {
     "name": "stdout",
     "output_type": "stream",
     "text": [
      "a bases: [1 1 1 ... 0 1 0]\n",
      "\n",
      "c bits: [0 0 0 ... 0 0 1]\n",
      "\n",
      "e bits: [1 1 1 ... 0 1 0]\n"
     ]
    }
   ],
   "source": [
    "# Verifier and Prover generate n random bases a\n",
    "a_bases = randint(2, size=n)\n",
    "print(\"a bases:\", a_bases)\n",
    "\n",
    "# Verifier generates n random challenger-bits c\n",
    "c_bits = randint(2, size=n)\n",
    "print(\"\\nc bits:\", c_bits)\n",
    "\n",
    "# Eve guesses the challenger-bits c\n",
    "e_bits = randint(2, size=n)\n",
    "print(\"\\ne bits:\", e_bits)\n"
   ]
  },
  {
   "cell_type": "code",
   "execution_count": 275,
   "metadata": {},
   "outputs": [
    {
     "data": {
      "image/png": "[encoded data removed]",
      "text/plain": [
       "<Figure size 269.064x200.667 with 1 Axes>"
      ]
     },
     "execution_count": 275,
     "metadata": {},
     "output_type": "execute_result"
    }
   ],
   "source": [
    "# Encode c in a\n",
    "message = encode_message(c_bits, a_bases, n)\n",
    "\n",
    "# Draw the circuit bit 0\n",
    "message[0].draw(output=\"mpl\")"
   ]
  },
  {
   "cell_type": "code",
   "execution_count": 276,
   "metadata": {},
   "outputs": [
    {
     "name": "stdout",
     "output_type": "stream",
     "text": [
      "[False False False ...  True False False]\n",
      "\n",
      "Eve's success rate: 0.501000\n"
     ]
    }
   ],
   "source": [
    "# Eve just sends their random guessed challenger-bits back to the Verifier\n",
    "message_back = e_bits\n",
    "\n",
    "# Verifier compares Eve guessed e_bits and c_bits\n",
    "print(e_bits == c_bits)\n",
    "\n",
    "# Loop through each bit of e_bits and a_bits if they are the same increase the counter and divide the counter by n\n",
    "counter = 0\n",
    "for i in range(n):\n",
    "    if e_bits[i] == c_bits[i]:\n",
    "        counter += 1\n",
    "success_rate = counter / n\n",
    "print(f\"\\nEve's success rate: {success_rate:.6f}\")\n"
   ]
  },
  {
   "cell_type": "code",
   "execution_count": 277,
   "metadata": {},
   "outputs": [],
   "source": [
    "# TODO: Last step is a MAC check\n",
    "# TODO: CURRENTLY I SEND ALL OF THE BITS. THEY NEED TO BE SEND ONE BY ONE. SO I NEED LOOP THROUGH IT"
   ]
  }
 ],
 "metadata": {
  "kernelspec": {
   "display_name": "qiskit-env",
   "language": "python",
   "name": "python3"
  },
  "language_info": {
   "codemirror_mode": {
    "name": "ipython",
    "version": 3
   },
   "file_extension": ".py",
   "mimetype": "text/x-python",
   "name": "python",
   "nbconvert_exporter": "python",
   "pygments_lexer": "ipython3",
   "version": "3.8.18"
  }
 },
 "nbformat": 4,
 "nbformat_minor": 2
}
